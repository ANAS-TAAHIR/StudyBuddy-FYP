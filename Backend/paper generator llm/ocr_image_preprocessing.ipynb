{
 "cells": [
  {
   "cell_type": "code",
   "execution_count": 10,
   "metadata": {},
   "outputs": [],
   "source": [
    "from pdf2image import convert_from_path\n",
    "import pytesseract\n",
    "from fpdf import FPDF\n",
    "import cv2\n",
    "import numpy as np\n",
    "from concurrent.futures import ThreadPoolExecutor"
   ]
  },
  {
   "cell_type": "code",
   "execution_count": 11,
   "metadata": {},
   "outputs": [],
   "source": [
    "# Step 1: Convert PDF to images\n",
    "def pdf_to_images(pdf_path):\n",
    "    return convert_from_path(pdf_path)"
   ]
  },
  {
   "cell_type": "code",
   "execution_count": 12,
   "metadata": {},
   "outputs": [],
   "source": [
    "# Step 2: Preprocess images for better OCR performance using advanced techniques\n",
    "def preprocess_image(image):\n",
    "    # Convert PIL image to OpenCV format\n",
    "    img_cv = np.array(image)\n",
    "    \n",
    "    # Convert to grayscale\n",
    "    img_gray = cv2.cvtColor(img_cv, cv2.COLOR_BGR2GRAY)\n",
    "    \n",
    "    # Denoise using fast non-local means denoising\n",
    "    img_denoised = cv2.fastNlMeansDenoising(img_gray, h=30)\n",
    "    \n",
    "    # Apply adaptive thresholding for better contrast\n",
    "    img_bin = cv2.adaptiveThreshold(img_denoised, 255, cv2.ADAPTIVE_THRESH_GAUSSIAN_C, cv2.THRESH_BINARY, 11, 2)\n",
    "    \n",
    "    # Optionally increase resolution (super-resolution can be implemented via deep learning models)\n",
    "    return img_bin"
   ]
  },
  {
   "cell_type": "code",
   "execution_count": 13,
   "metadata": {},
   "outputs": [],
   "source": [
    "# Step 3: Extract text from images using OCR with parallel processing\n",
    "def extract_text_from_image(image):\n",
    "    preprocessed_image = preprocess_image(image)\n",
    "    return pytesseract.image_to_string(preprocessed_image)\n",
    "\n",
    "def extract_text_from_images(images):\n",
    "    extracted_text = \"\"\n",
    "    \n",
    "    # Using ThreadPoolExecutor to run OCR on multiple images in parallel\n",
    "    with ThreadPoolExecutor() as executor:\n",
    "        results = executor.map(extract_text_from_image, images)\n",
    "    \n",
    "    for result in results:\n",
    "        extracted_text += result\n",
    "    \n",
    "    return extracted_text"
   ]
  },
  {
   "cell_type": "code",
   "execution_count": 15,
   "metadata": {},
   "outputs": [],
   "source": [
    "def create_text_pdf(extracted_text, output_pdf_path):\n",
    "    pdf = FPDF()\n",
    "    pdf.set_auto_page_break(auto=True, margin=15)\n",
    "    pdf.add_page()\n",
    "    \n",
    "    # Improved font and text style\n",
    "    pdf.set_font(\"Arial\", size=12)\n",
    "    pdf.set_left_margin(10)\n",
    "    pdf.set_right_margin(10)\n",
    "\n",
    "    # Split extracted text into paragraphs, keeping line breaks\n",
    "    paragraphs = extracted_text.split(\"\\n\\n\")\n",
    "    \n",
    "    # Add extracted text to PDF with better formatting\n",
    "    for para in paragraphs:\n",
    "        # Ensure encoding is handled gracefully\n",
    "        try:\n",
    "            pdf.multi_cell(0, 10, para.encode('latin-1', 'replace').decode('latin-1'))\n",
    "        except Exception as e:\n",
    "            print(f\"Error processing paragraph: {e}\")\n",
    "            continue\n",
    "    \n",
    "    pdf.output(output_pdf_path)"
   ]
  },
  {
   "cell_type": "code",
   "execution_count": 16,
   "metadata": {},
   "outputs": [],
   "source": [
    "# Main function to tie everything together\n",
    "def main(input_pdf_path, output_pdf_path):\n",
    "    images = pdf_to_images(input_pdf_path)           # Convert PDF to images\n",
    "    extracted_text = extract_text_from_images(images) # Extract text from images\n",
    "    \n",
    "    # Save corrected extracted text to a file (optional for debugging purposes)\n",
    "    with open(\"corrected_extracted_text.txt\", \"w\", encoding=\"utf-8\") as f:\n",
    "        f.write(extracted_text)\n",
    "    \n",
    "    # Create formatted PDF from the corrected extracted text\n",
    "    create_text_pdf(extracted_text, output_pdf_path)\n",
    "\n",
    "# Usage\n",
    "input_pdf_path = 'paper4.pdf'\n",
    "output_pdf_path = 'output5.pdf'\n",
    "main(input_pdf_path, output_pdf_path)"
   ]
  },
  {
   "cell_type": "code",
   "execution_count": null,
   "metadata": {},
   "outputs": [],
   "source": []
  }
 ],
 "metadata": {
  "kernelspec": {
   "display_name": "Python 3",
   "language": "python",
   "name": "python3"
  },
  "language_info": {
   "codemirror_mode": {
    "name": "ipython",
    "version": 3
   },
   "file_extension": ".py",
   "mimetype": "text/x-python",
   "name": "python",
   "nbconvert_exporter": "python",
   "pygments_lexer": "ipython3",
   "version": "3.11.9"
  }
 },
 "nbformat": 4,
 "nbformat_minor": 2
}
