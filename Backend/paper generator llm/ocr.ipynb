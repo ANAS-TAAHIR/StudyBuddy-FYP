{
 "cells": [
  {
   "cell_type": "code",
   "execution_count": 1,
   "metadata": {},
   "outputs": [],
   "source": [
    "from pdf2image import convert_from_path\n",
    "import pytesseract\n",
    "from fpdf import FPDF\n",
    "\n",
    "# Set the path to the Tesseract OCR executable (if necessary)\n",
    "# pytesseract.pytesseract.tesseract_cmd = r'C:\\Program Files\\Tesseract-OCR\\tesseract.exe'\n"
   ]
  },
  {
   "cell_type": "code",
   "execution_count": 2,
   "metadata": {},
   "outputs": [],
   "source": [
    "# Step 1: Convert PDF to images\n",
    "def pdf_to_images(pdf_path):\n",
    "    return convert_from_path(pdf_path)"
   ]
  },
  {
   "cell_type": "code",
   "execution_count": 3,
   "metadata": {},
   "outputs": [],
   "source": [
    "# Step 2: Extract text from images using OCR\n",
    "def extract_text_from_images(images):\n",
    "    extracted_text = \"\"\n",
    "    for image in images:\n",
    "        extracted_text += pytesseract.image_to_string(image)\n",
    "    return extracted_text"
   ]
  },
  {
   "cell_type": "code",
   "execution_count": 4,
   "metadata": {},
   "outputs": [],
   "source": [
    "# Step 3: Create a textual PDF from extracted text\n",
    "def create_text_pdf(extracted_text, output_pdf_path):\n",
    "    pdf = FPDF()\n",
    "    pdf.set_auto_page_break(auto=True, margin=15)\n",
    "    pdf.add_page()\n",
    "    pdf.set_font(\"Arial\", size=12)\n",
    "\n",
    "    # Add extracted text to PDF\n",
    "    for line in extracted_text.splitlines():\n",
    "        try:\n",
    "            pdf.multi_cell(0, 10, line.encode('latin-1', 'replace').decode('latin-1'))\n",
    "        except Exception as e:\n",
    "            print(f\"Error processing line: {e}\")\n",
    "            continue\n",
    "    \n",
    "    pdf.output(output_pdf_path)"
   ]
  },
  {
   "cell_type": "code",
   "execution_count": 5,
   "metadata": {},
   "outputs": [],
   "source": [
    "# Main function to tie everything together\n",
    "def main(input_pdf_path, output_pdf_path):\n",
    "    images = pdf_to_images(input_pdf_path)           # Convert PDF to images\n",
    "    extracted_text = extract_text_from_images(images) # Extract text from images\n",
    "    with open(\"extracted_text.txt\", \"w\", encoding=\"utf-8\") as f:\n",
    "        f.write(extracted_text) \n",
    "    create_text_pdf(extracted_text, output_pdf_path) # Generate a textual PDF\n",
    "\n",
    "# Usage\n",
    "input_pdf_path = 'paper4.pdf'\n",
    "output_pdf_path = 'output4.pdf'\n",
    "main(input_pdf_path, output_pdf_path)\n"
   ]
  },
  {
   "cell_type": "code",
   "execution_count": null,
   "metadata": {},
   "outputs": [],
   "source": []
  }
 ],
 "metadata": {
  "kernelspec": {
   "display_name": "Python 3",
   "language": "python",
   "name": "python3"
  },
  "language_info": {
   "codemirror_mode": {
    "name": "ipython",
    "version": 3
   },
   "file_extension": ".py",
   "mimetype": "text/x-python",
   "name": "python",
   "nbconvert_exporter": "python",
   "pygments_lexer": "ipython3",
   "version": "3.11.9"
  }
 },
 "nbformat": 4,
 "nbformat_minor": 2
}
