{
 "cells": [
  {
   "cell_type": "code",
   "execution_count": 1,
   "metadata": {},
   "outputs": [],
   "source": [
    "from dotenv import load_dotenv\n",
    "import os\n",
    "\n",
    "# Load .env file\n",
    "load_dotenv()\n",
    "groq_api_key = os.getenv('GROQ_API_KEY')\n",
    "\n",
    "if not groq_api_key:\n",
    "    raise ValueError(\"Groq API key not found in .env file\")"
   ]
  },
  {
   "cell_type": "code",
   "execution_count": 5,
   "metadata": {},
   "outputs": [
    {
     "name": "stderr",
     "output_type": "stream",
     "text": [
      "c:\\Users\\abdul\\miniconda3\\envs\\fyp\\Lib\\site-packages\\pydantic\\_internal\\_fields.py:132: UserWarning: Field \"model_name\" in HuggingFaceInferenceAPIEmbeddings has conflict with protected namespace \"model_\".\n",
      "\n",
      "You may be able to resolve this warning by setting `model_config['protected_namespaces'] = ()`.\n",
      "  warnings.warn(\n",
      "C:\\Users\\abdul\\AppData\\Local\\Temp\\ipykernel_13272\\3748620440.py:10: LangChainDeprecationWarning: The class `HuggingFaceEmbeddings` was deprecated in LangChain 0.2.2 and will be removed in 1.0. An updated version of the class exists in the :class:`~langchain-huggingface package and should be used instead. To use it run `pip install -U :class:`~langchain-huggingface` and import as `from :class:`~langchain_huggingface import HuggingFaceEmbeddings``.\n",
      "  embedding_model = HuggingFaceEmbeddings(model_name=\"sentence-transformers/all-MiniLM-L6-v2\")\n",
      "c:\\Users\\abdul\\miniconda3\\envs\\fyp\\Lib\\site-packages\\sentence_transformers\\cross_encoder\\CrossEncoder.py:13: TqdmWarning: IProgress not found. Please update jupyter and ipywidgets. See https://ipywidgets.readthedocs.io/en/stable/user_install.html\n",
      "  from tqdm.autonotebook import tqdm, trange\n",
      "c:\\Users\\abdul\\miniconda3\\envs\\fyp\\Lib\\site-packages\\transformers\\tokenization_utils_base.py:1601: FutureWarning: `clean_up_tokenization_spaces` was not set. It will be set to `True` by default. This behavior will be depracted in transformers v4.45, and will be then set to `False` by default. For more details check this issue: https://github.com/huggingface/transformers/issues/31884\n",
      "  warnings.warn(\n"
     ]
    }
   ],
   "source": [
    "import os\n",
    "import pickle\n",
    "from langchain.embeddings import HuggingFaceEmbeddings\n",
    "from langchain.vectorstores import Chroma\n",
    "from langchain.document_loaders import TextLoader\n",
    "from langchain.text_splitter import RecursiveCharacterTextSplitter\n",
    "from langchain_groq import ChatGroq\n",
    "\n",
    "# Initialize the HuggingFace Embedding Model\n",
    "embedding_model = HuggingFaceEmbeddings(model_name=\"sentence-transformers/all-MiniLM-L6-v2\")"
   ]
  },
  {
   "cell_type": "code",
   "execution_count": 3,
   "metadata": {},
   "outputs": [],
   "source": [
    "# Load documents from a text file and add metadata\n",
    "def load_documents(file_path):\n",
    "    loader = TextLoader(file_path)\n",
    "    documents = loader.load()\n",
    "    \n",
    "    # Add metadata to each document (e.g., file name)\n",
    "    for doc in documents:\n",
    "        doc.metadata[\"source\"] = file_path\n",
    "    return documents\n"
   ]
  },
  {
   "cell_type": "code",
   "execution_count": 12,
   "metadata": {},
   "outputs": [],
   "source": [
    "\n",
    "# Split documents into chunks\n",
    "def split_documents(documents):\n",
    "    text_splitter = RecursiveCharacterTextSplitter(chunk_size=1000, chunk_overlap=100)\n",
    "    split_docs = text_splitter.split_documents(documents)\n",
    "    return split_docs"
   ]
  },
  {
   "cell_type": "code",
   "execution_count": 5,
   "metadata": {},
   "outputs": [],
   "source": [
    "# Create embeddings and handle storage\n",
    "def embed_documents(split_docs, embedding_model):\n",
    "    EMBEDDINGS_FOLDER = \"embeddings\"\n",
    "    EMBEDDINGS_FILE = os.path.join(EMBEDDINGS_FOLDER, \"emb01.pkl\")\n",
    "\n",
    "    if not os.path.exists(EMBEDDINGS_FOLDER):\n",
    "        os.makedirs(EMBEDDINGS_FOLDER)\n",
    "\n",
    "    if os.path.exists(EMBEDDINGS_FILE):\n",
    "        print(f\"Loading existing embeddings from {EMBEDDINGS_FILE}...\")\n",
    "        with open(EMBEDDINGS_FILE, 'rb') as f:\n",
    "            embedded_docs = pickle.load(f)\n",
    "    else:\n",
    "        print(\"Creating new embeddings...\")\n",
    "        texts = [doc.page_content for doc in split_docs]\n",
    "        embedded_docs = embedding_model.embed_documents(texts)\n",
    "\n",
    "        with open(EMBEDDINGS_FILE, 'wb') as f:\n",
    "            pickle.dump(embedded_docs, f)\n",
    "\n",
    "    return embedded_docs\n"
   ]
  },
  {
   "cell_type": "code",
   "execution_count": 6,
   "metadata": {},
   "outputs": [],
   "source": [
    "# Store embeddings in Chroma vector store\n",
    "def store_embeddings(split_docs, embedding_model):\n",
    "    vector_store = Chroma.from_documents(split_docs, embedding_model) \n",
    "    return vector_store"
   ]
  },
  {
   "cell_type": "code",
   "execution_count": 7,
   "metadata": {},
   "outputs": [],
   "source": [
    "# Build the RAG pipeline\n",
    "def build_rag_pipeline(vector_store):\n",
    "    retriever = vector_store.as_retriever()\n",
    "    return retriever\n"
   ]
  },
  {
   "cell_type": "code",
   "execution_count": 8,
   "metadata": {},
   "outputs": [],
   "source": [
    "\n",
    "# Initialize the LLM\n",
    "def initialize_llm():\n",
    "    llm = ChatGroq(\n",
    "        model=\"llama-3.1-70b-versatile\",\n",
    "        temperature=0.2,  # Lower temperature for more consistent evaluations\n",
    "    )\n",
    "    return llm"
   ]
  },
  {
   "cell_type": "code",
   "execution_count": 9,
   "metadata": {},
   "outputs": [],
   "source": [
    "# Querying the retriever and LLM\n",
    "def query_llm(llm, retriever, query):\n",
    "    # Retrieve relevant documents\n",
    "    results = retriever.get_relevant_documents(query)\n",
    "\n",
    "    # Use the LLM to process the retrieved documents\n",
    "    if results:\n",
    "        # Combine results for the LLM prompt, and track their sources\n",
    "        context = \"\\n\".join([doc.page_content for doc in results])\n",
    "        prompt = f\"\"\"Please consider information from 9th to 12th-grade textbooks. If the provided context is relevant to the student's query, use it to give a precise answer. Otherwise, answer based on your own knowledge, considering the material covered in books for these grades. Don't mention in response that the context is not relevant. You can simply say \"I cannot find relevant data from your book but I will explain you the general concept about\" and so on. At the end, encourage student to ask conversational questions related to the topics in the book based on the query.\n",
    "        \n",
    "        Context:\n",
    "        {context}\n",
    "        Student Query:\n",
    "        {query}\n",
    "        \"\"\"\n",
    "        response = llm.invoke(prompt)\n",
    "        \n",
    "        # Capture the actual text chunks used\n",
    "        relevant_texts = [doc.page_content for doc in results]\n",
    "        \n",
    "        # Return both the response and relevant texts\n",
    "        return response, relevant_texts\n",
    "    else:\n",
    "        return \"No relevant documents found.\", []\n"
   ]
  },
  {
   "cell_type": "code",
   "execution_count": 10,
   "metadata": {},
   "outputs": [
    {
     "name": "stdout",
     "output_type": "stream",
     "text": [
      "Loading existing embeddings from embeddings\\emb01.pkl...\n"
     ]
    }
   ],
   "source": [
    "# Main execution flow\n",
    "if __name__ == \"__main__\":\n",
    "    # Load your document\n",
    "    documents = load_documents('resources/9thComputerScience_updated.txt')\n",
    "    split_docs = split_documents(documents)\n",
    "    embedded_docs = embed_documents(split_docs, embedding_model)\n",
    "    vector_store = store_embeddings(split_docs, embedding_model)\n",
    "    retriever = build_rag_pipeline(vector_store)\n",
    "    \n",
    "    # Initialize the LLM\n",
    "    llm = initialize_llm()\n"
   ]
  },
  {
   "cell_type": "code",
   "execution_count": 11,
   "metadata": {},
   "outputs": [
    {
     "name": "stderr",
     "output_type": "stream",
     "text": [
      "C:\\Users\\abdul\\AppData\\Local\\Temp\\ipykernel_5040\\32019177.py:4: LangChainDeprecationWarning: The method `BaseRetriever.get_relevant_documents` was deprecated in langchain-core 0.1.46 and will be removed in 1.0. Use :meth:`~invoke` instead.\n",
      "  results = retriever.get_relevant_documents(query)\n"
     ]
    },
    {
     "name": "stdout",
     "output_type": "stream",
     "text": [
      "A Boolean proposition is a statement that can be either true or false. In the context of Boolean algebra, a proposition is a statement that can be assigned a truth value, which is either true (T) or false (F).\n",
      "\n",
      "In the context of your textbook, a proposition is defined as a statement that can be assigned a truth value based on its truthfulness or falsity. For example, the statement \"Islamabad is the capital of Pakistan\" is a proposition that can be assigned a truth value of true.\n",
      "\n",
      "A proposition can be simple or compound. A simple proposition is a single statement that can be assigned a truth value, whereas a compound proposition is a statement that is made up of two or more simple propositions combined using logical operators such as AND, OR, and NOT.\n",
      "\n",
      "For example, the statement \"It is raining and today is Sunday\" is a compound proposition that is made up of two simple propositions: \"It is raining\" and \"Today is Sunday\". The truth value of this compound proposition depends on the truth values of the individual simple propositions.\n",
      "\n",
      "Boolean propositions are used to represent logical statements and are the building blocks of Boolean algebra. They are used to create complex logical expressions and to analyze the truth values of these expressions.\n",
      "\n",
      "Now, can you think of a scenario where you would use a Boolean proposition to represent a real-life situation? For example, how would you represent the statement \"I will go to the movies if it is not raining and my friends are free\" as a Boolean proposition?\n",
      "==============================================\n",
      "\n",
      "Relevant text chunks used in the response:\n",
      "Chunk: ==============================\n",
      "operator is shown in Table 2-11.\n",
      "Truth Table for complex Boolean expressions: We can make truth table for any combination of these operators. For NOT(P) Q NOT(P)AND Q\n",
      "example, if we need to make a truth table - of “It is not raining and today is Sunday”.\n",
      "It means the proposition NOT(P) AND Q.\n",
      "P T T \n",
      "Chunk: ==============================\n",
      "Do you know?\n",
      "True and False are called Boolean values. The idea was given by George Boole (2 November 1815 —8 December 1864) in his book “The Laws of Thought”.\n",
      "2.5.2 Truth Values\n",
      "Every proposition takes one of two values true or false, and these values are called the truth values. Truth value is giv\n",
      "Chunk: ==============================\n",
      "is False and Q is True. It means “It is not raining on Sunday” which results in False value of P AND Q. In the last row both P and Q are False, which means Tt is neither raining nor Sunday”. So, the proposition “It is raining and today is Sunday” is false (row 4 of Table 2-9).\n",
      "Truth Table for OR ope\n",
      "Chunk: ==============================\n",
      "2.5.4 Truth Table\n",
      "A truth table is used to check whether a proposition is True or False. Usually it is used to check the truth value of a proposition where some logical operator is used. In the following, we discuss the truth tables for AND, OR and NOT operators.\n",
      "Truth Table for AND operator: The tr\n"
     ]
    }
   ],
   "source": [
    "# Example query \n",
    "query = \"explain boolean proposition\"\n",
    "response, relevant_texts = query_llm(llm, retriever, query)\n",
    "\n",
    "# Output response and relevant text chunks\n",
    "print(response.content)\n",
    "print(\"==============================================\")\n",
    "print(\"\\nRelevant text chunks used in the response:\")\n",
    "for text in relevant_texts:\n",
    "    print(\"Chunk: ==============================\")\n",
    "    print(text[:300])"
   ]
  },
  {
   "cell_type": "code",
   "execution_count": 12,
   "metadata": {},
   "outputs": [
    {
     "name": "stdout",
     "output_type": "stream",
     "text": [
      "=====================================\n",
      "operator is shown in Table 2-11.\n",
      "Truth Table for complex Boolean expressions: We can make truth table for any combination of these operators. For NOT(P) Q NOT(P)AND Q\n",
      "example, if we need to make a truth table - of “It is not raining and today is Sunday”.\n",
      "It means the proposition NOT(P) AND Q.\n",
      "P T T F The truth table for this compound Table 2-12 proposition is shown Table 2-12.\n",
      "2.5.5 Laws of Boolean Algebra The laws of Boolean Algebra help us to simplify complex Boolean expressions. Some laws are discussed in the following.\n",
      "e Commutative Law Commutative Law states that the order of application of two separate propositions is not important. So,\n",
      "a) A.B=B8B.A (The order in which two variables are AND’ed makes no difference.)\n",
      "b) A+B=B+A _ (The order in which two variables are OR’ed makes no difference.)\n",
      "We can use truth tables (Table 2-13a, Table 2-13b) to verify this law for AND and OR operations respectively.\n",
      "Table 2-13a Table 2-13b\n",
      "=====================================\n",
      "Do you know?\n",
      "True and False are called Boolean values. The idea was given by George Boole (2 November 1815 —8 December 1864) in his book “The Laws of Thought”.\n",
      "2.5.2 Truth Values\n",
      "Every proposition takes one of two values true or false, and these values are called the truth values. Truth value is given on the basis of truthfulness or falsity of a proposition.\n",
      "Example:\n",
      "Assume P = “Islamabad is the capital of Pakistan”. You can assign the truth\n",
      "Unit 2 — Binary System\n",
      "value true to this proposition. Now assume another proposition Q = “The sun rises in the west\". The truth value for this proposition is false. If we have proposition R = “I have completed my homework\", then the truth value depends on the person who is assigning it. If a person has completed his homework then he can assign truth value true, otherwise false.\n",
      "2.5.3 Logical Operators (AND, OR, NOT)\n",
      "=====================================\n",
      "is False and Q is True. It means “It is not raining on Sunday” which results in False value of P AND Q. In the last row both P and Q are False, which means Tt is neither raining nor Sunday”. So, the proposition “It is raining and today is Sunday” is false (row 4 of Table 2-9).\n",
      "Truth Table for OR operator: For the same propositions P_ Q PANDQ\n",
      "and Q, let's see the truth table for the expression P OR Q. P OR Q = “It is raining or it is Sunday”. This compound proposition is False if it is not raining and today is not\n",
      "Sunday otherwise it is True as shown in Table 2-10. Table 2-10\n",
      "Unit 2 — Binary System\n",
      "Truth Table for NOT operator: We can also make truth table =p Xe) where NOT operator is used. Negation (also called NOT) is an\n",
      "operator that reverses the nature of a value, i.e., a value True becomes False and vice versa. The truth table for NOT ‘able2-41\n",
      "operator is shown in Table 2-11.\n",
      "=====================================\n",
      "2.5.4 Truth Table\n",
      "A truth table is used to check whether a proposition is True or False. Usually it is used to check the truth value of a proposition where some logical operator is used. In the following, we discuss the truth tables for AND, OR and NOT operators.\n",
      "Truth Table for AND operator: The truth table for P AND Q is given in Table 2-9. The first two columns are showing all the possible combinations of truth values of propositions P and Q, the third column is showing the resultant truth value of P AND Q. Assume:\n",
      "P = Itis raining Q = Today is Sunday P AND Q = It is raining and today is Sunday\n",
      "If both P and Q are True then the P AND Q's also True, it means “It is raining on Sunday”. This situation is shown on Row 1 of Table 2-9. Suppose it is raining but not on Sunday. Then P is True and Q is False due to which P AND Q is also False (row 2 of Table 2-9). In row 3 of Table 2-9, P Table 2-9\n"
     ]
    }
   ],
   "source": [
    "for text in relevant_texts:\n",
    "    print(\"=====================================\")\n",
    "    print(text)"
   ]
  },
  {
   "cell_type": "code",
   "execution_count": 13,
   "metadata": {},
   "outputs": [
    {
     "name": "stdout",
     "output_type": "stream",
     "text": [
      "The idea of Boolean values was given by George Boole in his book \"The Laws of Thought\". George Boole was born on 2 November 1815 and died on 8 December 1864.\n",
      "\n",
      "Now, can you think of a scenario where you would use Boolean values in real life? For example, how would you use Boolean values to represent the status of a light switch?\n",
      "==============================================\n",
      "\n",
      "Relevant text chunks used in the response:\n",
      "Chunk: ==============================\n",
      "Do you know?\n",
      "True and False are called Boolean values. The idea was given by George Boole (2 November 1815 —8 December 1864) in his book “The Laws of Thought”.\n",
      "2.5.2 Truth Values\n",
      "Every proposition takes one of two values true or false, and these values are called the truth values. Truth value is giv\n",
      "Chunk: ==============================\n",
      "operator is shown in Table 2-11.\n",
      "Truth Table for complex Boolean expressions: We can make truth table for any combination of these operators. For NOT(P) Q NOT(P)AND Q\n",
      "example, if we need to make a truth table - of “It is not raining and today is Sunday”.\n",
      "It means the proposition NOT(P) AND Q.\n",
      "P T T \n",
      "Chunk: ==============================\n",
      "A network of networks\n",
      "\n",
      "\n",
      "Computer Science — 9\n",
      "\n",
      "\n",
      "\n",
      "Truth value A value that is either true or false\n",
      "\n",
      "Verification Verification means to test if the solution is actually solving the same problem for which it was designed\n",
      "\n",
      "Volatile memory A memory that stores data when connected to power\n",
      "\n",
      "Wi-Fi It is tec\n",
      "Chunk: ==============================\n",
      "2.5.6 Logical Expressions\n",
      "We get a logical expression when some logical operator is applied to the Boolean proposition(s). For example, P AND Q,=(P OR Q), P OR Q, etc., In the tables, Table 2-14, 2-15 and 2-16 the truth tables are according to some logical expressions.\n",
      "Do you know?\n",
      "By negating a neg\n"
     ]
    }
   ],
   "source": [
    "# Example query \n",
    "query = \"who gave the idea of boolean values and on what date\"\n",
    "response, relevant_texts = query_llm(llm, retriever, query)\n",
    "\n",
    "# Output response and relevant text chunks\n",
    "print(response.content)\n",
    "print(\"==============================================\")\n",
    "print(\"\\nRelevant text chunks used in the response:\")\n",
    "for text in relevant_texts:\n",
    "    print(\"Chunk: ==============================\")\n",
    "    print(text[:300])"
   ]
  },
  {
   "cell_type": "code",
   "execution_count": 14,
   "metadata": {},
   "outputs": [
    {
     "name": "stdout",
     "output_type": "stream",
     "text": [
      "I'll explain how IPv4 and IPv6 work.\n",
      "\n",
      "IPv4 (Internet Protocol Version 4) is the original standard for IP addressing. It uses 32 bits to store the whole IP address, which is divided into four groups separated by dots (e.g., 172.16.54.1). Each group can contain a decimal value from 0 to 255. Since each group requires 8 bits, the total 32 bits are required to store the whole IP address in IPv4 standard.\n",
      "\n",
      "Here's how IPv4 works:\n",
      "\n",
      "1. When a device connects to a network, it is assigned an IP address by a Dynamic Host Configuration Protocol (DHCP) server.\n",
      "2. The IP address is used to identify the device on the network.\n",
      "3. When data is sent from one device to another, the IP address is used to route the data packets to the correct destination.\n",
      "\n",
      "IPv6 (Internet Protocol Version 6) is a newer standard that was introduced to accommodate the increasing number of devices connecting to the internet. It uses 128 bits to store the whole IP address, which is divided into eight groups separated by colons (e.g., 2001:db8:0:1234:0:567:8:1). Each group can contain four hexadecimal digits.\n",
      "\n",
      "Here's how IPv6 works:\n",
      "\n",
      "1. When a device connects to a network, it is assigned an IP address by a DHCP server.\n",
      "2. The IP address is used to identify the device on the network.\n",
      "3. When data is sent from one device to another, the IP address is used to route the data packets to the correct destination.\n",
      "\n",
      "The main difference between IPv4 and IPv6 is the number of addresses they can support. IPv4 can support approximately 4.3 billion addresses, while IPv6 can support up to 2^128 addresses, which is a much larger number.\n",
      "\n",
      "Now, let's discuss some conversational questions related to this topic. For example:\n",
      "\n",
      "* How do you think the increasing number of devices connecting to the internet will affect the use of IPv4 and IPv6?\n",
      "* Can you think of any scenarios where IPv6 would be more useful than IPv4?\n",
      "* How do you think the use of IPv6 will change the way we access the internet in the future?\n",
      "==============================================\n",
      "\n",
      "Relevant text chunks used in the response:\n",
      "Chunk: ==============================\n",
      "Example:\n",
      "e IPv4 address is like: 172.16.54.1 e IPv6 address is like: 2001:db8:0:1234:0:567:8:1.\n",
      "When the Internet Protocol was originally designed, the standard was known as Internet Protocol Version 4 (IPv4). As shown in the above example, the IPv4 is divided in four groups separated by '.’ where e\n",
      "Chunk: ==============================\n",
      "are required to store the whole IP address in IPv4 standard.\n",
      "Due to more and more devices connecting to the Internet, IPv4 addresses are running out. To accommodate the increase in devices, another standard of IP addressing is introduced which is called Internet Protocol Version 6 (IPv6). It consist\n",
      "Chunk: ==============================\n",
      "Although IPv4 is still in use today and provides approximately 4.3 billion addresses, however this number is less than the population of the whole world We also know that nowadays many persons have more than one devices connected with the Internet at a time. IPv6 can allow up to 2°”\n",
      "addresses which \n",
      "Chunk: ==============================\n",
      "‘HTTP Request HTTP Response\n",
      "Web server\n",
      "Client Browser Figure 3-15 HTPP Request and Response\n",
      "Web browsers are used to access the World Wide Web in an easy manner. Web browsers and web servers function together as a client-server system. Client-server is a standard method for designing applications wh\n"
     ]
    }
   ],
   "source": [
    "# Example query \n",
    "query = \"how ip4 and ip6 works\"\n",
    "response, relevant_texts = query_llm(llm, retriever, query)\n",
    "\n",
    "# Output response and relevant text chunks\n",
    "print(response.content)\n",
    "print(\"==============================================\")\n",
    "print(\"\\nRelevant text chunks used in the response:\")\n",
    "for text in relevant_texts:\n",
    "    print(\"Chunk: ==============================\")\n",
    "    print(text[:300])"
   ]
  }
 ],
 "metadata": {
  "kernelspec": {
   "display_name": "fyp",
   "language": "python",
   "name": "python3"
  },
  "language_info": {
   "codemirror_mode": {
    "name": "ipython",
    "version": 3
   },
   "file_extension": ".py",
   "mimetype": "text/x-python",
   "name": "python",
   "nbconvert_exporter": "python",
   "pygments_lexer": "ipython3",
   "version": "3.12.5"
  }
 },
 "nbformat": 4,
 "nbformat_minor": 2
}
