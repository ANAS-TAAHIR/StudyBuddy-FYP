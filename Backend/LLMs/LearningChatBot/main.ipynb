{
 "cells": [
  {
   "cell_type": "code",
   "execution_count": 1,
   "metadata": {},
   "outputs": [],
   "source": [
    "from dotenv import load_dotenv\n",
    "import os\n",
    "\n",
    "# Load .env file\n",
    "load_dotenv()\n",
    "groq_api_key = os.getenv('GROQ_API_KEY')\n",
    "\n",
    "if not groq_api_key:\n",
    "    raise ValueError(\"Groq API key not found in .env file\")"
   ]
  },
  {
   "cell_type": "code",
   "execution_count": 2,
   "metadata": {},
   "outputs": [
    {
     "name": "stderr",
     "output_type": "stream",
     "text": [
      "c:\\Users\\abdul\\miniconda3\\envs\\fyp\\Lib\\site-packages\\pydantic\\_internal\\_fields.py:132: UserWarning: Field \"model_name\" in HuggingFaceInferenceAPIEmbeddings has conflict with protected namespace \"model_\".\n",
      "\n",
      "You may be able to resolve this warning by setting `model_config['protected_namespaces'] = ()`.\n",
      "  warnings.warn(\n"
     ]
    }
   ],
   "source": [
    "# imports for precessing text\n",
    "import os\n",
    "import pickle\n",
    "import re\n",
    "\n",
    "# imports for creating pipeline for rag\n",
    "from langchain.embeddings import HuggingFaceEmbeddings      # for embeddings\n",
    "from langchain.vectorstores import Chroma                  # for vector store\n",
    "from langchain.document_loaders import TextLoader        # for loading text\n",
    "from langchain.text_splitter import RecursiveCharacterTextSplitter  # acting as base class for splitting text \n",
    "from langchain_groq import ChatGroq                         # for initializing LLM from groq\n",
    "from langchain.schema import Document                   # converting simple text to document object\n",
    "\n",
    "# For compressing the context of retrieved documents\n",
    "from langchain.retrievers import ContextualCompressionRetriever     # for compressing retrieved documents context\n",
    "from langchain.retrievers.document_compressors import LLMChainExtractor     # used in compression\n",
    "\n",
    "# For creating the retrieval chain for chat history\n",
    "from langchain.chains import create_retrieval_chain\n",
    "from langchain.chains.combine_documents import create_stuff_documents_chain\n",
    "from langchain_core.prompts import ChatPromptTemplate\n",
    "\n",
    "# For creating history aware retriever\n",
    "from langchain.chains import create_history_aware_retriever\n",
    "from langchain_core.prompts import MessagesPlaceholder\n",
    "from langchain_core.messages import AIMessage, HumanMessage     # for messages in history aware retriever\n",
    "\n",
    "\n",
    "# Extra for now\n",
    "from langchain.chains import ConversationalRetrievalChain\n",
    "from langchain.memory import ConversationBufferMemory"
   ]
  },
  {
   "cell_type": "code",
   "execution_count": 3,
   "metadata": {},
   "outputs": [
    {
     "name": "stderr",
     "output_type": "stream",
     "text": [
      "C:\\Users\\abdul\\AppData\\Local\\Temp\\ipykernel_8976\\1594320778.py:2: LangChainDeprecationWarning: The class `HuggingFaceEmbeddings` was deprecated in LangChain 0.2.2 and will be removed in 1.0. An updated version of the class exists in the :class:`~langchain-huggingface package and should be used instead. To use it run `pip install -U :class:`~langchain-huggingface` and import as `from :class:`~langchain_huggingface import HuggingFaceEmbeddings``.\n",
      "  embedding_model = HuggingFaceEmbeddings(model_name=\"sentence-transformers/all-MiniLM-L6-v2\")\n",
      "c:\\Users\\abdul\\miniconda3\\envs\\fyp\\Lib\\site-packages\\sentence_transformers\\cross_encoder\\CrossEncoder.py:13: TqdmWarning: IProgress not found. Please update jupyter and ipywidgets. See https://ipywidgets.readthedocs.io/en/stable/user_install.html\n",
      "  from tqdm.autonotebook import tqdm, trange\n",
      "c:\\Users\\abdul\\miniconda3\\envs\\fyp\\Lib\\site-packages\\transformers\\tokenization_utils_base.py:1601: FutureWarning: `clean_up_tokenization_spaces` was not set. It will be set to `True` by default. This behavior will be depracted in transformers v4.45, and will be then set to `False` by default. For more details check this issue: https://github.com/huggingface/transformers/issues/31884\n",
      "  warnings.warn(\n"
     ]
    }
   ],
   "source": [
    "# Initialize the HuggingFace Embedding Model\n",
    "embedding_model = HuggingFaceEmbeddings(model_name=\"sentence-transformers/all-MiniLM-L6-v2\")"
   ]
  },
  {
   "cell_type": "code",
   "execution_count": 4,
   "metadata": {},
   "outputs": [],
   "source": [
    "def load_documents(file_path):\n",
    "    loader = TextLoader('resources/9thComputerScience_cleaned.txt')\n",
    "    documents = loader.load()\n",
    "    return documents"
   ]
  },
  {
   "cell_type": "code",
   "execution_count": 5,
   "metadata": {},
   "outputs": [],
   "source": [
    "# Custom RecursiveCharacterTextSplitter with regex patterns for subtopics and chapters\n",
    "class CustomTextSplitter(RecursiveCharacterTextSplitter):\n",
    "    def __init__(self, **kwargs):\n",
    "        subtopic_pattern = re.compile(r'(\\d+(\\.\\d+)+)')\n",
    "        chapter_separator = 'chapter end -------------------------------------'\n",
    "\n",
    "        # Initialize with any other parameters, and add your separators\n",
    "        super().__init__(separators=[chapter_separator], **kwargs)\n",
    "        self.subtopic_pattern = subtopic_pattern\n",
    "\n",
    "    def split_text(self, text):\n",
    "        # First, split by chapters\n",
    "        texts = super().split_text(text)\n",
    "        documents = []\n",
    "        \n",
    "        # For each chapter, split by subtopic using the subtopic regex\n",
    "        chapter_number = 1\n",
    "        for chapter in texts:\n",
    "            subtopic_splits = self._split_by_subtopic(chapter, chapter_number)\n",
    "            documents.extend(subtopic_splits)\n",
    "            chapter_number += 1\n",
    "        \n",
    "        return documents\n",
    "\n",
    "    def _split_by_subtopic(self, text, chapter_number):\n",
    "        # Use the subtopic regex to split text\n",
    "        matches = list(self.subtopic_pattern.finditer(text))\n",
    "        if not matches:\n",
    "            # No subtopics found, return the full text as a single Document\n",
    "            return [Document(page_content=text.strip(), metadata={\"chapter\": chapter_number})]\n",
    "        \n",
    "        subtopics = []\n",
    "        start_idx = 0\n",
    "        subtopic_number = 1\n",
    "        \n",
    "        for match in matches:\n",
    "            end_idx = match.start()\n",
    "            if start_idx != end_idx:\n",
    "                subtopics.append(Document(\n",
    "                    page_content=text[start_idx:end_idx].strip(),\n",
    "                    metadata={\"chapter\": chapter_number, \"subtopic\": subtopic_number}\n",
    "                ))\n",
    "            start_idx = end_idx\n",
    "            subtopic_number += 1\n",
    "            \n",
    "        # Append the remaining part as a subtopic\n",
    "        subtopics.append(Document(\n",
    "            page_content=text[start_idx:].strip(),\n",
    "            metadata={\"chapter\": chapter_number, \"subtopic\": subtopic_number}\n",
    "        ))\n",
    "        \n",
    "        return subtopics\n"
   ]
  },
  {
   "cell_type": "code",
   "execution_count": 6,
   "metadata": {},
   "outputs": [],
   "source": [
    "# Create embeddings and handle storage\n",
    "def embed_documents(split_docs, embedding_model):\n",
    "    EMBEDDINGS_FOLDER = \"embeddings\"\n",
    "    EMBEDDINGS_FILE = os.path.join(EMBEDDINGS_FOLDER, \"emb01.pkl\")\n",
    "\n",
    "    if not os.path.exists(EMBEDDINGS_FOLDER):\n",
    "        os.makedirs(EMBEDDINGS_FOLDER)\n",
    "\n",
    "    if os.path.exists(EMBEDDINGS_FILE):\n",
    "        print(f\"Loading existing embeddings from {EMBEDDINGS_FILE}...\")\n",
    "        with open(EMBEDDINGS_FILE, 'rb') as f:\n",
    "            embedded_docs = pickle.load(f)\n",
    "            print(\"Embeddings loaded successfully.\")\n",
    "    else:\n",
    "        print(\"Creating new embeddings...\")\n",
    "        texts = [doc.page_content for doc in split_docs]\n",
    "        embedded_docs = embedding_model.embed_documents(texts)\n",
    "\n",
    "        with open(EMBEDDINGS_FILE, 'wb') as f:\n",
    "            pickle.dump(embedded_docs, f)\n",
    "            print(f\"Embeddings saved to {EMBEDDINGS_FILE}\")\n",
    "\n",
    "    return embedded_docs\n"
   ]
  },
  {
   "cell_type": "code",
   "execution_count": 7,
   "metadata": {},
   "outputs": [],
   "source": [
    "# Store embeddings in Chroma vector store\n",
    "def store_embeddings(split_docs, embedding_model):\n",
    "    vector_store = Chroma.from_documents(split_docs, embedding_model) \n",
    "    return vector_store"
   ]
  },
  {
   "cell_type": "code",
   "execution_count": 8,
   "metadata": {},
   "outputs": [],
   "source": [
    "def getting_retriever(llm,vector_store):\n",
    "    \"\"\"Opiton 01: Creating ContextualCompressionRetriever\n",
    "    Contextual Compression will find the relevant records and only contains the relevant data from chunks instead of whole chunks\n",
    "    Maximum Marginal Relevance (mmr) is used to get diverse set of documents.\n",
    "    Option 02: SelfQueryRetrieval for filtering based on sources\"\"\"\n",
    "    # Option 01\n",
    "    compressor = LLMChainExtractor.from_llm(llm)\n",
    "    compression_retriever = ContextualCompressionRetriever(\n",
    "    base_compressor=compressor,\n",
    "    base_retriever=vector_store.as_retriever(search_kwargs={\"k\": 10})\n",
    "    #search_type = \"mmr\"\n",
    "    )\n",
    "    return compression_retriever"
   ]
  },
  {
   "cell_type": "code",
   "execution_count": 9,
   "metadata": {},
   "outputs": [],
   "source": [
    "# Initialize the LLM\n",
    "def initialize_llm(model_name=\"llama-3.1-70b-versatile\", temperature=0):\n",
    "    llm = ChatGroq(\n",
    "        model= model_name,\n",
    "        temperature=temperature,\n",
    "    )\n",
    "    return llm"
   ]
  },
  {
   "cell_type": "code",
   "execution_count": 10,
   "metadata": {},
   "outputs": [
    {
     "name": "stdout",
     "output_type": "stream",
     "text": [
      "Loading existing embeddings from embeddings\\emb01.pkl...\n",
      "Embeddings loaded successfully.\n"
     ]
    }
   ],
   "source": [
    "\n",
    "# Load your document\n",
    "documents = load_documents('resources/9thComputerScience_cleaned.txt')\n",
    "\n",
    "# Split the text into smaller chunks\n",
    "text_splitter = CustomTextSplitter(chunk_size=1000, chunk_overlap=100)\n",
    "split_docs = text_splitter.split_text(documents[0].page_content)\n",
    "# print(split_docs[10])\n",
    "\n",
    "# Create embeddings and store them\n",
    "embedded_docs = embed_documents(split_docs, embedding_model)\n",
    "vector_store = store_embeddings(split_docs, embedding_model)\n",
    "llm = initialize_llm()\n",
    "\n",
    "# Create the retriever having contextual compression\n",
    "retriever = getting_retriever(llm,vector_store)\n"
   ]
  },
  {
   "cell_type": "code",
   "execution_count": 11,
   "metadata": {},
   "outputs": [],
   "source": [
    "# Just for testing the normal chain without chat history\n",
    "system_prompt = (\n",
    "    \"Act as a conversational assistant similar to ChatGPT. Engage in natural dialogue and answer questions based on the context provided through the chat history or retrieved using Retrieval-Augmented Generation (RAG). If the relevant context is not found either in the conversation or via RAG, respond by stating that the information is unavailable or ask for more clarification from the user. Do not provide speculative or out-of-context information. Always ensure responses are precise and contextually relevant.\"\n",
    "    \"\\n\\n\"\n",
    "    \"{context}\"\n",
    ")\n",
    "\n",
    "prompt = ChatPromptTemplate.from_messages(\n",
    "    [\n",
    "        (\"system\", system_prompt),\n",
    "        (\"human\", \"{input}\"),\n",
    "    ]\n",
    ")\n",
    "\n",
    "question_answer_chain = create_stuff_documents_chain(llm, prompt)\n",
    "rag_chain = create_retrieval_chain(retriever, question_answer_chain)"
   ]
  },
  {
   "cell_type": "code",
   "execution_count": 12,
   "metadata": {},
   "outputs": [],
   "source": [
    "# result = rag_chain.invoke({\"input\": \"can you give me an interesting topic from 1st chapter\"})\n",
    "# result"
   ]
  },
  {
   "cell_type": "code",
   "execution_count": 13,
   "metadata": {},
   "outputs": [],
   "source": [
    "# result = rag_chain.invoke({\"input\": \"guide me in each step further\"})\n",
    "# result"
   ]
  },
  {
   "cell_type": "markdown",
   "metadata": {},
   "source": [
    "## Implementing Chat history for context"
   ]
  },
  {
   "cell_type": "code",
   "execution_count": 14,
   "metadata": {},
   "outputs": [],
   "source": [
    "contextualize_q_system_prompt = (\n",
    "    \"Act as a conversational assistant similar to ChatGPT. Engage in natural dialogue and answer questions based on the context provided through the chat history or retrieved using Retrieval-Augmented Generation (RAG). If the relevant context is not found either in the conversation or via RAG, respond by stating that the information is unavailable or ask for more clarification from the user. Do not provide speculative or out-of-context information. Always ensure responses are precise and contextually relevant.\"\n",
    ")\n",
    "\n",
    "contextualize_q_prompt = ChatPromptTemplate.from_messages(\n",
    "    [\n",
    "        (\"system\", contextualize_q_system_prompt),\n",
    "        MessagesPlaceholder(\"chat_history\"),\n",
    "        (\"human\", \"{input}\"),\n",
    "    ]\n",
    ")\n",
    "\n",
    "# Creating a new retirever that is aware of the chat history. Rest of the things are same.\n",
    "history_aware_retriever = create_history_aware_retriever(\n",
    "    llm, retriever, contextualize_q_prompt\n",
    ")"
   ]
  },
  {
   "cell_type": "code",
   "execution_count": 15,
   "metadata": {},
   "outputs": [],
   "source": [
    "qa_prompt = ChatPromptTemplate.from_messages(\n",
    "    [\n",
    "        (\"system\", system_prompt),\n",
    "        MessagesPlaceholder(\"chat_history\"),\n",
    "        (\"human\", \"{input}\"),\n",
    "    ]\n",
    ")\n",
    "\n",
    "\n",
    "question_answer_chain = create_stuff_documents_chain(llm, qa_prompt)\n",
    "\n",
    "rag_chain = create_retrieval_chain(history_aware_retriever, question_answer_chain)"
   ]
  },
  {
   "cell_type": "markdown",
   "metadata": {},
   "source": [
    "### Chat History Working"
   ]
  },
  {
   "cell_type": "code",
   "execution_count": 16,
   "metadata": {},
   "outputs": [],
   "source": [
    "chat_history = []   # List of messages in the chat history"
   ]
  },
  {
   "cell_type": "code",
   "execution_count": 17,
   "metadata": {},
   "outputs": [
    {
     "name": "stdout",
     "output_type": "stream",
     "text": [
      "Overall Result Object:  {'input': 'Text formatting tasks in HTML', 'chat_history': [HumanMessage(content='Text formatting tasks in HTML', additional_kwargs={}, response_metadata={}), AIMessage(content='To perform various text formatting tasks in HTML, you can use the following tags and attributes:\\n\\n1. **Specify a page title**: The `<title>` tag is used to specify the title of a webpage. It is placed within the `<head>` section of the HTML document.\\n\\n   Example: `<title>My Webpage</title>`\\n\\n2. **Create a paragraph**: The `<p>` tag is used to create a paragraph. The text inside the `<p>` tag is the actual content of the paragraph.\\n\\n   Example: `<p>This is my first paragraph.</p>`\\n\\n3. **Insert line breaks**: The `<br>` element is used to insert a line break without starting a new paragraph.\\n\\n   Example: `<p>This is my first line.<br>This is my second line.</p>`\\n\\n4. **Insert spaces**: To insert multiple spaces in a text, you can use the `&nbsp;` entity. This entity represents a non-breaking space.\\n\\n   Example: `<p>I study &nbsp; &nbsp; &nbsp; in 9th class.</p>`\\n\\n   To insert two spaces, you can use the `&ensp;` entity.\\n\\n5. **Add headings/sub-headings**: Headings are defined with the `<h1>` to `<h6>` tags. `<h1>` defines the most important heading, while `<h6>` defines the least important heading.\\n\\n   Example:\\n   ```\\n   <h1>Heading 1</h1>\\n   <h2>Heading 2</h2>\\n   <h3>Heading 3</h3>\\n   <h4>Heading 4</h4>\\n   <h5>Heading 5</h5>\\n   <h6>Heading 6</h6>\\n   ```\\n\\nThe basic text formatting tags in HTML are:\\n\\n* `<b>`: Used to make text bold.\\n* `<i>`: Used to make text italic.\\n* `<u>`: Used to underline text.\\n* `<font>`: Used to specify the font face, size, and color of text.\\n\\n   Example:\\n   ```\\n   <b>This text is bold</b>\\n   <i>This text is italic</i>\\n   <u>This text is underlined</u>\\n   <font face=\"verdana\" size=\"5\" color=\"blue\">This text is formatted</font>\\n   ```\\n\\nNote that the `<font>` tag is deprecated in HTML5 and should be avoided in favor of CSS styling.', additional_kwargs={}, response_metadata={})], 'context': [Document(metadata={'chapter': 5, 'subtopic': 1}, page_content='2. Text Formatting \\n@ Describe the steps involved to: \\nm Specify a page title \\nm Create a paragraph \\nm Insert line breaks \\nm Insert spaces \\nm Add headings/sub-headings \\n@ Identify the text formatting tags used to format the text in various font styles, colours and sizes \\n@ Use appropriate text formatting tags to define: \\nm Font size \\nFont colour \\nFont face \\nBold text \\nItalic text \\nUnderline text'), Document(metadata={'chapter': 5, 'subtopic': 9}, page_content='5.2 Text Formatting'), Document(metadata={'chapter': 5, 'subtopic': 10}, page_content='e Creating a paragraph: The <p> tag marks starting of a paragraph, and </p> tag marks closing of the paragraph. The text inside <p> </p> tags is actual contents of the paragraph.\\ne Insert line breaks: The <br> element inserts a line break without starting a new paragraph. For example, <p>This is<br>a paragraph</p> displays text in two lines, as following.\\ne Insert spaces: If you insert multiple spaces in a text, HTML only considers one space and ignores the others. For example, <p> I _ study in 9th class. </p> generates the following output.\\nI study in 9th class.\\nYou can see that HTML has ignored the multiple spaces inside the text. In order to insert spaces you need to write \"&nbsp;\" where the space is needed. For example, <p> I study &nbsp; &nbsp; &nbsp; &nbsp; &nbsp; &nbsp; &nbsp; &nbsp; Snbsp; in 9°\" class. </p> generates the following output.\\nI study in 9th class.\\nIn order to add two spaces, you can use \"&ensp;\".\\ne Add headings/sub-headings: Headings are defined with the <h1> to <h6> tags. <h1> defines the most important heading. <h6> defines the least important heading. For example, <h1>Heading 1</h1> <h2> Heading 2 </h2> <h3> Heading 3 </h3> <h4> Heading 4 </h4> <h5> Heading 5 </h5> <h6> Heading 6 </h6> produces the output shown in Figure 5-6.'), Document(metadata={'chapter': 5, 'subtopic': 25}, page_content='Text formatting refers to the attributes of text other than the actual text itself.'), Document(metadata={'chapter': 5, 'subtopic': 12}, page_content='<font color=\"red\">This is some text! </font> This is some text! <font size=\"5\" color=\"blue\">This is some text! </font> This is some text!\\n\\n<font face=\"verdana\">This is some text! </font> This-is sone taut!\\n\\nHTML Code Snippet <b>This text is bold</b> This text is bold <i>This text is italic</i> This text is italic This is an <u>underline text</u> This is an underline text'), Document(metadata={'chapter': 5, 'subtopic': 26}, page_content='Describe the basic text formatting tags.'), Document(metadata={'chapter': 5, 'subtopic': 4}, page_content='<h1> My First Heading </hn1>\\n<p> My First paragraph. </p>')], 'answer': 'To perform various text formatting tasks in HTML, you can use the following tags and attributes:\\n\\n1. **Specify a page title**: The `<title>` tag is used to specify the title of a webpage. It is placed within the `<head>` section of the HTML document.\\n\\n   Example: `<title>My Webpage</title>`\\n\\n2. **Create a paragraph**: The `<p>` tag is used to create a paragraph. The text inside the `<p>` tag is the actual content of the paragraph.\\n\\n   Example: `<p>This is my first paragraph.</p>`\\n\\n3. **Insert line breaks**: The `<br>` element is used to insert a line break without starting a new paragraph.\\n\\n   Example: `<p>This is my first line.<br>This is my second line.</p>`\\n\\n4. **Insert spaces**: To insert multiple spaces in a text, you can use the `&nbsp;` entity. This entity represents a non-breaking space.\\n\\n   Example: `<p>I study &nbsp; &nbsp; &nbsp; in 9th class.</p>`\\n\\n   To insert two spaces, you can use the `&ensp;` entity.\\n\\n5. **Add headings/sub-headings**: Headings are defined with the `<h1>` to `<h6>` tags. `<h1>` defines the most important heading, while `<h6>` defines the least important heading.\\n\\n   Example:\\n   ```\\n   <h1>Heading 1</h1>\\n   <h2>Heading 2</h2>\\n   <h3>Heading 3</h3>\\n   <h4>Heading 4</h4>\\n   <h5>Heading 5</h5>\\n   <h6>Heading 6</h6>\\n   ```\\n\\nThe basic text formatting tags in HTML are:\\n\\n* `<b>`: Used to make text bold.\\n* `<i>`: Used to make text italic.\\n* `<u>`: Used to underline text.\\n* `<font>`: Used to specify the font face, size, and color of text.\\n\\n   Example:\\n   ```\\n   <b>This text is bold</b>\\n   <i>This text is italic</i>\\n   <u>This text is underlined</u>\\n   <font face=\"verdana\" size=\"5\" color=\"blue\">This text is formatted</font>\\n   ```\\n\\nNote that the `<font>` tag is deprecated in HTML5 and should be avoided in favor of CSS styling.'}\n",
      "-----------------------------------\n",
      "Answer: To perform various text formatting tasks in HTML, you can use the following tags and attributes:\n",
      "\n",
      "1. **Specify a page title**: The `<title>` tag is used to specify the title of a webpage. It is placed within the `<head>` section of the HTML document.\n",
      "\n",
      "   Example: `<title>My Webpage</title>`\n",
      "\n",
      "2. **Create a paragraph**: The `<p>` tag is used to create a paragraph. The text inside the `<p>` tag is the actual content of the paragraph.\n",
      "\n",
      "   Example: `<p>This is my first paragraph.</p>`\n",
      "\n",
      "3. **Insert line breaks**: The `<br>` element is used to insert a line break without starting a new paragraph.\n",
      "\n",
      "   Example: `<p>This is my first line.<br>This is my second line.</p>`\n",
      "\n",
      "4. **Insert spaces**: To insert multiple spaces in a text, you can use the `&nbsp;` entity. This entity represents a non-breaking space.\n",
      "\n",
      "   Example: `<p>I study &nbsp; &nbsp; &nbsp; in 9th class.</p>`\n",
      "\n",
      "   To insert two spaces, you can use the `&ensp;` entity.\n",
      "\n",
      "5. **Add headings/sub-headings**: Headings are defined with the `<h1>` to `<h6>` tags. `<h1>` defines the most important heading, while `<h6>` defines the least important heading.\n",
      "\n",
      "   Example:\n",
      "   ```\n",
      "   <h1>Heading 1</h1>\n",
      "   <h2>Heading 2</h2>\n",
      "   <h3>Heading 3</h3>\n",
      "   <h4>Heading 4</h4>\n",
      "   <h5>Heading 5</h5>\n",
      "   <h6>Heading 6</h6>\n",
      "   ```\n",
      "\n",
      "The basic text formatting tags in HTML are:\n",
      "\n",
      "* `<b>`: Used to make text bold.\n",
      "* `<i>`: Used to make text italic.\n",
      "* `<u>`: Used to underline text.\n",
      "* `<font>`: Used to specify the font face, size, and color of text.\n",
      "\n",
      "   Example:\n",
      "   ```\n",
      "   <b>This text is bold</b>\n",
      "   <i>This text is italic</i>\n",
      "   <u>This text is underlined</u>\n",
      "   <font face=\"verdana\" size=\"5\" color=\"blue\">This text is formatted</font>\n",
      "   ```\n",
      "\n",
      "Note that the `<font>` tag is deprecated in HTML5 and should be avoided in favor of CSS styling.\n",
      "-----------------------------------\n",
      "Context: [Document(metadata={'chapter': 5, 'subtopic': 1}, page_content='2. Text Formatting \\n@ Describe the steps involved to: \\nm Specify a page title \\nm Create a paragraph \\nm Insert line breaks \\nm Insert spaces \\nm Add headings/sub-headings \\n@ Identify the text formatting tags used to format the text in various font styles, colours and sizes \\n@ Use appropriate text formatting tags to define: \\nm Font size \\nFont colour \\nFont face \\nBold text \\nItalic text \\nUnderline text'), Document(metadata={'chapter': 5, 'subtopic': 9}, page_content='5.2 Text Formatting'), Document(metadata={'chapter': 5, 'subtopic': 10}, page_content='e Creating a paragraph: The <p> tag marks starting of a paragraph, and </p> tag marks closing of the paragraph. The text inside <p> </p> tags is actual contents of the paragraph.\\ne Insert line breaks: The <br> element inserts a line break without starting a new paragraph. For example, <p>This is<br>a paragraph</p> displays text in two lines, as following.\\ne Insert spaces: If you insert multiple spaces in a text, HTML only considers one space and ignores the others. For example, <p> I _ study in 9th class. </p> generates the following output.\\nI study in 9th class.\\nYou can see that HTML has ignored the multiple spaces inside the text. In order to insert spaces you need to write \"&nbsp;\" where the space is needed. For example, <p> I study &nbsp; &nbsp; &nbsp; &nbsp; &nbsp; &nbsp; &nbsp; &nbsp; Snbsp; in 9°\" class. </p> generates the following output.\\nI study in 9th class.\\nIn order to add two spaces, you can use \"&ensp;\".\\ne Add headings/sub-headings: Headings are defined with the <h1> to <h6> tags. <h1> defines the most important heading. <h6> defines the least important heading. For example, <h1>Heading 1</h1> <h2> Heading 2 </h2> <h3> Heading 3 </h3> <h4> Heading 4 </h4> <h5> Heading 5 </h5> <h6> Heading 6 </h6> produces the output shown in Figure 5-6.'), Document(metadata={'chapter': 5, 'subtopic': 25}, page_content='Text formatting refers to the attributes of text other than the actual text itself.'), Document(metadata={'chapter': 5, 'subtopic': 12}, page_content='<font color=\"red\">This is some text! </font> This is some text! <font size=\"5\" color=\"blue\">This is some text! </font> This is some text!\\n\\n<font face=\"verdana\">This is some text! </font> This-is sone taut!\\n\\nHTML Code Snippet <b>This text is bold</b> This text is bold <i>This text is italic</i> This text is italic This is an <u>underline text</u> This is an underline text'), Document(metadata={'chapter': 5, 'subtopic': 26}, page_content='Describe the basic text formatting tags.'), Document(metadata={'chapter': 5, 'subtopic': 4}, page_content='<h1> My First Heading </hn1>\\n<p> My First paragraph. </p>')]\n",
      "-----------------------------------\n",
      "Chat History: [HumanMessage(content='Text formatting tasks in HTML', additional_kwargs={}, response_metadata={}), AIMessage(content='To perform various text formatting tasks in HTML, you can use the following tags and attributes:\\n\\n1. **Specify a page title**: The `<title>` tag is used to specify the title of a webpage. It is placed within the `<head>` section of the HTML document.\\n\\n   Example: `<title>My Webpage</title>`\\n\\n2. **Create a paragraph**: The `<p>` tag is used to create a paragraph. The text inside the `<p>` tag is the actual content of the paragraph.\\n\\n   Example: `<p>This is my first paragraph.</p>`\\n\\n3. **Insert line breaks**: The `<br>` element is used to insert a line break without starting a new paragraph.\\n\\n   Example: `<p>This is my first line.<br>This is my second line.</p>`\\n\\n4. **Insert spaces**: To insert multiple spaces in a text, you can use the `&nbsp;` entity. This entity represents a non-breaking space.\\n\\n   Example: `<p>I study &nbsp; &nbsp; &nbsp; in 9th class.</p>`\\n\\n   To insert two spaces, you can use the `&ensp;` entity.\\n\\n5. **Add headings/sub-headings**: Headings are defined with the `<h1>` to `<h6>` tags. `<h1>` defines the most important heading, while `<h6>` defines the least important heading.\\n\\n   Example:\\n   ```\\n   <h1>Heading 1</h1>\\n   <h2>Heading 2</h2>\\n   <h3>Heading 3</h3>\\n   <h4>Heading 4</h4>\\n   <h5>Heading 5</h5>\\n   <h6>Heading 6</h6>\\n   ```\\n\\nThe basic text formatting tags in HTML are:\\n\\n* `<b>`: Used to make text bold.\\n* `<i>`: Used to make text italic.\\n* `<u>`: Used to underline text.\\n* `<font>`: Used to specify the font face, size, and color of text.\\n\\n   Example:\\n   ```\\n   <b>This text is bold</b>\\n   <i>This text is italic</i>\\n   <u>This text is underlined</u>\\n   <font face=\"verdana\" size=\"5\" color=\"blue\">This text is formatted</font>\\n   ```\\n\\nNote that the `<font>` tag is deprecated in HTML5 and should be avoided in favor of CSS styling.', additional_kwargs={}, response_metadata={})]\n"
     ]
    }
   ],
   "source": [
    "query = \"Text formatting tasks in HTML\"\n",
    "result = rag_chain.invoke({\"input\": query,\"chat_history\": chat_history})\n",
    "# Append the user query and the system response to the chat history\n",
    "chat_history.extend(\n",
    "    [\n",
    "        HumanMessage(content=query),\n",
    "        AIMessage(content=result[\"answer\"]),\n",
    "    ]\n",
    ")\n",
    "print(\"Overall Result Object: \",result)\n",
    "print(\"-----------------------------------\")\n",
    "print(\"Answer:\",result[\"answer\"])\n",
    "print(\"-----------------------------------\")\n",
    "print(\"Context:\",result[\"context\"])\n",
    "print(\"-----------------------------------\")\n",
    "print(\"Chat History:\",chat_history)"
   ]
  },
  {
   "cell_type": "code",
   "execution_count": 18,
   "metadata": {},
   "outputs": [
    {
     "name": "stdout",
     "output_type": "stream",
     "text": [
      "7\n",
      "page_content='2. Text Formatting \n",
      "@ Describe the steps involved to: \n",
      "m Specify a page title \n",
      "m Create a paragraph \n",
      "m Insert line breaks \n",
      "m Insert spaces \n",
      "m Add headings/sub-headings \n",
      "@ Identify the text formatting tags used to format the text in various font styles, colours and sizes \n",
      "@ Use appropriate text formatting tags to define: \n",
      "m Font size \n",
      "Font colour \n",
      "Font face \n",
      "Bold text \n",
      "Italic text \n",
      "Underline text' metadata={'chapter': 5, 'subtopic': 1}\n",
      "page_content='5.2 Text Formatting' metadata={'chapter': 5, 'subtopic': 9}\n",
      "page_content='e Creating a paragraph: The <p> tag marks starting of a paragraph, and </p> tag marks closing of the paragraph. The text inside <p> </p> tags is actual contents of the paragraph.\n",
      "e Insert line breaks: The <br> element inserts a line break without starting a new paragraph. For example, <p>This is<br>a paragraph</p> displays text in two lines, as following.\n",
      "e Insert spaces: If you insert multiple spaces in a text, HTML only considers one space and ignores the others. For example, <p> I _ study in 9th class. </p> generates the following output.\n",
      "I study in 9th class.\n",
      "You can see that HTML has ignored the multiple spaces inside the text. In order to insert spaces you need to write \"&nbsp;\" where the space is needed. For example, <p> I study &nbsp; &nbsp; &nbsp; &nbsp; &nbsp; &nbsp; &nbsp; &nbsp; Snbsp; in 9°\" class. </p> generates the following output.\n",
      "I study in 9th class.\n",
      "In order to add two spaces, you can use \"&ensp;\".\n",
      "e Add headings/sub-headings: Headings are defined with the <h1> to <h6> tags. <h1> defines the most important heading. <h6> defines the least important heading. For example, <h1>Heading 1</h1> <h2> Heading 2 </h2> <h3> Heading 3 </h3> <h4> Heading 4 </h4> <h5> Heading 5 </h5> <h6> Heading 6 </h6> produces the output shown in Figure 5-6.' metadata={'chapter': 5, 'subtopic': 10}\n",
      "page_content='Text formatting refers to the attributes of text other than the actual text itself.' metadata={'chapter': 5, 'subtopic': 25}\n",
      "page_content='<font color=\"red\">This is some text! </font> This is some text! <font size=\"5\" color=\"blue\">This is some text! </font> This is some text!\n",
      "\n",
      "<font face=\"verdana\">This is some text! </font> This-is sone taut!\n",
      "\n",
      "HTML Code Snippet <b>This text is bold</b> This text is bold <i>This text is italic</i> This text is italic This is an <u>underline text</u> This is an underline text' metadata={'chapter': 5, 'subtopic': 12}\n",
      "page_content='Describe the basic text formatting tags.' metadata={'chapter': 5, 'subtopic': 26}\n",
      "page_content='<h1> My First Heading </hn1>\n",
      "<p> My First paragraph. </p>' metadata={'chapter': 5, 'subtopic': 4}\n"
     ]
    }
   ],
   "source": [
    "print(len(result['context']))\n",
    "\n",
    "for item in result['context']:\n",
    "    print(item)"
   ]
  },
  {
   "cell_type": "code",
   "execution_count": 19,
   "metadata": {},
   "outputs": [
    {
     "name": "stdout",
     "output_type": "stream",
     "text": [
      "To perform various text formatting tasks in HTML, you can use the following tags and attributes:\n",
      "\n",
      "1. **Specify a page title**: The `<title>` tag is used to specify the title of a webpage. It is placed within the `<head>` section of the HTML document.\n",
      "\n",
      "   Example: `<title>My Webpage</title>`\n",
      "\n",
      "2. **Create a paragraph**: The `<p>` tag is used to create a paragraph. The text inside the `<p>` tag is the actual content of the paragraph.\n",
      "\n",
      "   Example: `<p>This is my first paragraph.</p>`\n",
      "\n",
      "3. **Insert line breaks**: The `<br>` element is used to insert a line break without starting a new paragraph.\n",
      "\n",
      "   Example: `<p>This is my first line.<br>This is my second line.</p>`\n",
      "\n",
      "4. **Insert spaces**: To insert multiple spaces in a text, you can use the `&nbsp;` entity. This entity represents a non-breaking space.\n",
      "\n",
      "   Example: `<p>I study &nbsp; &nbsp; &nbsp; in 9th class.</p>`\n",
      "\n",
      "   To insert two spaces, you can use the `&ensp;` entity.\n",
      "\n",
      "5. **Add headings/sub-headings**: Headings are defined with the `<h1>` to `<h6>` tags. `<h1>` defines the most important heading, while `<h6>` defines the least important heading.\n",
      "\n",
      "   Example:\n",
      "   ```\n",
      "   <h1>Heading 1</h1>\n",
      "   <h2>Heading 2</h2>\n",
      "   <h3>Heading 3</h3>\n",
      "   <h4>Heading 4</h4>\n",
      "   <h5>Heading 5</h5>\n",
      "   <h6>Heading 6</h6>\n",
      "   ```\n",
      "\n",
      "The basic text formatting tags in HTML are:\n",
      "\n",
      "* `<b>`: Used to make text bold.\n",
      "* `<i>`: Used to make text italic.\n",
      "* `<u>`: Used to underline text.\n",
      "* `<font>`: Used to specify the font face, size, and color of text.\n",
      "\n",
      "   Example:\n",
      "   ```\n",
      "   <b>This text is bold</b>\n",
      "   <i>This text is italic</i>\n",
      "   <u>This text is underlined</u>\n",
      "   <font face=\"verdana\" size=\"5\" color=\"blue\">This text is formatted</font>\n",
      "   ```\n",
      "\n",
      "Note that the `<font>` tag is deprecated in HTML5 and should be avoided in favor of CSS styling.\n"
     ]
    }
   ],
   "source": [
    "print(result[\"answer\"])"
   ]
  },
  {
   "cell_type": "code",
   "execution_count": 20,
   "metadata": {},
   "outputs": [],
   "source": [
    "# # Follow up question without mentioning any particular term to test the memory\n",
    "# query = \"chemistry\"\n",
    "# result = rag_chain.invoke({\"input\": query,\"chat_history\": chat_history})\n",
    "# chat_history.extend(\n",
    "#     [\n",
    "#         HumanMessage(content=query),\n",
    "#         AIMessage(content=result[\"answer\"]),\n",
    "#     ]\n",
    "# )\n",
    "# print(\"Overall Result Object: \",result)\n",
    "# print(\"-----------------------------------\")\n",
    "# print(\"Answer:\",result[\"answer\"])\n",
    "# print(\"-----------------------------------\")\n",
    "# print(\"Context:\",result[\"context\"])\n",
    "# print(\"-----------------------------------\")\n",
    "# print(\"Chat History:\",chat_history)"
   ]
  }
 ],
 "metadata": {
  "kernelspec": {
   "display_name": "fyp",
   "language": "python",
   "name": "python3"
  },
  "language_info": {
   "codemirror_mode": {
    "name": "ipython",
    "version": 3
   },
   "file_extension": ".py",
   "mimetype": "text/x-python",
   "name": "python",
   "nbconvert_exporter": "python",
   "pygments_lexer": "ipython3",
   "version": "3.12.5"
  }
 },
 "nbformat": 4,
 "nbformat_minor": 2
}
